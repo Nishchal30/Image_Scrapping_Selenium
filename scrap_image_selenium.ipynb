{
 "cells": [
  {
   "cell_type": "code",
   "execution_count": 1,
   "metadata": {},
   "outputs": [],
   "source": [
    "import os, time\n",
    "import requests\n",
    "from selenium import webdriver\n",
    "from selenium.webdriver.common.by import By"
   ]
  },
  {
   "cell_type": "code",
   "execution_count": 2,
   "metadata": {},
   "outputs": [],
   "source": [
    "search_url = \"https://www.google.com/search?sca_esv=554181109&rlz=1C1ONGR_enIN1041IN1053&sxsrf=AB5stBiFxmBbOYpInCdbKouAPdTBI_988w:1691302134273&q=cars&tbm=isch&source=lnms&sa=X&ved=2ahUKEwis4a63r8eAAxW1XGwGHSAXC98Q0pQJegQICxAB&biw=1366&bih=619&dpr=1\"\n",
    "max_links_to_fetch = 3\n",
    "wd = webdriver.Chrome()\n",
    "sleep_between_interactions = 1\n",
    "wd.get(search_url)"
   ]
  },
  {
   "cell_type": "code",
   "execution_count": 3,
   "metadata": {},
   "outputs": [],
   "source": [
    "def scroll_to_end(wd):\n",
    "    wd.execute_script(\"window.scrollTo(0, document.body.scrollHeight);\")\n",
    "    time.sleep(sleep_between_interactions)"
   ]
  },
  {
   "cell_type": "code",
   "execution_count": 4,
   "metadata": {},
   "outputs": [],
   "source": [
    "image_url = set()\n",
    "image_count = 0\n",
    "results_start = 0"
   ]
  },
  {
   "cell_type": "code",
   "execution_count": 5,
   "metadata": {},
   "outputs": [
    {
     "name": "stdout",
     "output_type": "stream",
     "text": [
      "found: 0 image links, looking for more...\n",
      "found: 1 image links, looking for more...\n",
      "found: 2 image links, looking for more...\n",
      "found 3 image links, done!\n",
      "{'https://ds-prod.citroen.in/static-assets/ds-static/s3fs-public/2023-04/1_mobile__.jpg?v5XyoHqW0vYdle1aYHEW6IvjQR89GoZl', 'https://www.autocar.co.uk/sites/autocar.co.uk/files/styles/body-image/public/99-best-luxury-cars-2023-bmw-i7-lead.jpg?itok=3aHfyLGd', 'https://carwow-uk-wp-3.imgix.net/18015-MC20BluInfinito-scaled-e1666008987698.jpg'}\n"
     ]
    }
   ],
   "source": [
    "while image_count < max_links_to_fetch:\n",
    "    scroll_to_end(wd)\n",
    "    thumbnail_results = wd.find_elements(By.CSS_SELECTOR, \"img.Q4LuWd\")\n",
    "    number_of_results = len(thumbnail_results)\n",
    "\n",
    "    print(f\"found : {thumbnail_results} search results. Extracting links from {results_start}:{number_of_results}\")\n",
    "\n",
    "    for img in thumbnail_results[results_start:number_of_results]:\n",
    "        try:\n",
    "            img.click()\n",
    "            time.sleep(sleep_between_interactions)\n",
    "        except Exception:\n",
    "            continue\n",
    "\n",
    "        actual_images = wd.find_elements(By.CSS_SELECTOR, \"img.r48jcc\")\n",
    "\n",
    "        for actual_image in actual_images:\n",
    "            if actual_image.get_attribute('src') and 'http' in actual_image.get_attribute('src'):\n",
    "                image_url.add(actual_image.get_attribute('src'))\n",
    "\n",
    "        image_count = len(image_url)\n",
    "\n",
    "        if len(image_url) >= max_links_to_fetch:\n",
    "            print(f\"found {len(image_url)} image links, done!\")\n",
    "            break\n",
    "\n",
    "        else:\n",
    "            print(f\"found:\", len(image_url), \"image links, looking for more...\")\n",
    "            time.sleep(30)\n",
    "        \n",
    "        load_more_button = wd.find_elements(By.CSS_SELECTOR, \".LZ4I\")\n",
    "\n",
    "        if load_more_button:\n",
    "            wd.execute_script(\"document.querySelector('.LZ4I').click();\")\n",
    "\n",
    "    results_start = len(thumbnail_results)\n",
    "\n",
    "print(image_url)\n"
   ]
  },
  {
   "cell_type": "code",
   "execution_count": 8,
   "metadata": {},
   "outputs": [
    {
     "data": {
      "text/plain": [
       "48"
      ]
     },
     "execution_count": 8,
     "metadata": {},
     "output_type": "execute_result"
    }
   ],
   "source": [
    "number_of_results"
   ]
  },
  {
   "cell_type": "code",
   "execution_count": 26,
   "metadata": {},
   "outputs": [],
   "source": [
    "def fetch_image_urls(query : str, max_links_to_fetch : int, wd : webdriver, sleep_between_interactions : int = 1):\n",
    "    def scroll_to_end(wd):\n",
    "        wd.execute_script(\"window.scrollTo(0, document.body.scrollHeight);\")\n",
    "        time.sleep(sleep_between_interactions)\n",
    "\n",
    "    # Build the google url\n",
    "    search_url = \"https://www.google.com/search?sca_esv=554181109&rlz=1C1ONGR_enIN1041IN1053&sxsrf=AB5stBiFxmBbOYpInCdbKouAPdTBI_988w:1691302134273&q={q}&tbm=isch&source=lnms&sa=X&ved=2ahUKEwis4a63r8eAAxW1XGwGHSAXC98Q0pQJegQICxAB&biw=1366&bih=619&dpr=1\"\n",
    "\n",
    "    # Load the page\n",
    "    wd.get(search_url.format(q=query))\n",
    "\n",
    "    image_url = set()\n",
    "    image_count = 0\n",
    "    results_start = 0\n",
    "\n",
    "    while image_count < max_links_to_fetch:\n",
    "        scroll_to_end(wd)\n",
    "\n",
    "        thumbnail_results = wd.find_elements(By.CSS_SELECTOR, \"img.Q4LuWd\")\n",
    "        number_of_results = len(thumbnail_results)\n",
    "\n",
    "        print(f\"found : {thumbnail_results} search results. Extracting links from {results_start}:{number_of_results}\")\n",
    "\n",
    "        for img in thumbnail_results[results_start:number_of_results]:\n",
    "            try:\n",
    "                img.click()\n",
    "                time.sleep(sleep_between_interactions)\n",
    "            except Exception:\n",
    "                continue\n",
    "\n",
    "            actual_images = wd.find_elements(By.CSS_SELECTOR, \"img.r48jcc\")\n",
    "\n",
    "            for actual_image in actual_images:\n",
    "                if actual_image.get_attribute('src') and 'http' in actual_image.get_attribute('src'):\n",
    "                    image_url.add(actual_image.get_attribute('src'))\n",
    "\n",
    "            image_count = len(image_url)\n",
    "\n",
    "            if len(image_url) >= max_links_to_fetch:\n",
    "                print(f\"found {len(image_url)} image links, done!\")\n",
    "                break\n",
    "\n",
    "            else:\n",
    "                print(f\"found:\", len(image_url), \"image links, looking for more...\")\n",
    "                time.sleep(30)\n",
    "            \n",
    "            load_more_button = wd.find_elements(By.CSS_SELECTOR, \".LZ4I\")\n",
    "\n",
    "            if load_more_button:\n",
    "                wd.execute_script(\"document.querySelector('.LZ4I').click();\")\n",
    "\n",
    "        results_start = len(thumbnail_results)\n",
    "\n",
    "    return image_url"
   ]
  },
  {
   "cell_type": "code",
   "execution_count": 27,
   "metadata": {},
   "outputs": [],
   "source": [
    "def persist_image(folder_path : str, url : str, counter):\n",
    "    try:\n",
    "        image_content = requests.get(url).content\n",
    "\n",
    "    except Exception as e:\n",
    "        print(f\"Error - could not download {url} - {e}\")\n",
    "    \n",
    "    try:\n",
    "        f  = open(os.path.join(folder_path, 'jpg' + \"_\" + str(counter) + \".jpg\"), \"wb\")\n",
    "        f.write(image_content)\n",
    "        f.close()\n",
    "        print(f\"success - saved {url} - as {folder_path}\")\n",
    "    \n",
    "    except Exception as e:\n",
    "        print(f\"Error - could not save {url} - {e}\")"
   ]
  },
  {
   "cell_type": "code",
   "execution_count": 28,
   "metadata": {},
   "outputs": [],
   "source": [
    "def search_and_download(search_term : str, number_of_images = 10):\n",
    "    save_dir = \"images/\"\n",
    "    if not os.path.exists(save_dir):\n",
    "        os.makedirs(save_dir)\n",
    "\n",
    "    target_folder = os.path.join(save_dir, \"_\".join(search_term.lower().split(\" \")))\n",
    "\n",
    "    if not os.path.exists(target_folder):\n",
    "        os.makedirs(target_folder)\n",
    "\n",
    "    with webdriver.Chrome() as wd:\n",
    "        res = fetch_image_urls(search_term, number_of_images, wd=wd, sleep_between_interactions=0.5)\n",
    "    \n",
    "    counter = 0\n",
    "    for element in res:\n",
    "        persist_image(target_folder, element, counter)\n",
    "        counter = counter + 1"
   ]
  },
  {
   "cell_type": "code",
   "execution_count": 29,
   "metadata": {},
   "outputs": [
    {
     "name": "stdout",
     "output_type": "stream",
     "text": [
      "found : [<selenium.webdriver.remote.webelement.WebElement (session=\"d7b930fcb01a86f53ea2e7ffba193f00\", element=\"4F433AB85892BACD732B022AA4A1E857_element_17\")>, <selenium.webdriver.remote.webelement.WebElement (session=\"d7b930fcb01a86f53ea2e7ffba193f00\", element=\"4F433AB85892BACD732B022AA4A1E857_element_19\")>, <selenium.webdriver.remote.webelement.WebElement (session=\"d7b930fcb01a86f53ea2e7ffba193f00\", element=\"4F433AB85892BACD732B022AA4A1E857_element_21\")>, <selenium.webdriver.remote.webelement.WebElement (session=\"d7b930fcb01a86f53ea2e7ffba193f00\", element=\"4F433AB85892BACD732B022AA4A1E857_element_23\")>, <selenium.webdriver.remote.webelement.WebElement (session=\"d7b930fcb01a86f53ea2e7ffba193f00\", element=\"4F433AB85892BACD732B022AA4A1E857_element_25\")>, <selenium.webdriver.remote.webelement.WebElement (session=\"d7b930fcb01a86f53ea2e7ffba193f00\", element=\"4F433AB85892BACD732B022AA4A1E857_element_27\")>, <selenium.webdriver.remote.webelement.WebElement (session=\"d7b930fcb01a86f53ea2e7ffba193f00\", element=\"4F433AB85892BACD732B022AA4A1E857_element_29\")>, <selenium.webdriver.remote.webelement.WebElement (session=\"d7b930fcb01a86f53ea2e7ffba193f00\", element=\"4F433AB85892BACD732B022AA4A1E857_element_30\")>, <selenium.webdriver.remote.webelement.WebElement (session=\"d7b930fcb01a86f53ea2e7ffba193f00\", element=\"4F433AB85892BACD732B022AA4A1E857_element_31\")>, <selenium.webdriver.remote.webelement.WebElement (session=\"d7b930fcb01a86f53ea2e7ffba193f00\", element=\"4F433AB85892BACD732B022AA4A1E857_element_32\")>, <selenium.webdriver.remote.webelement.WebElement (session=\"d7b930fcb01a86f53ea2e7ffba193f00\", element=\"4F433AB85892BACD732B022AA4A1E857_element_39\")>, <selenium.webdriver.remote.webelement.WebElement (session=\"d7b930fcb01a86f53ea2e7ffba193f00\", element=\"4F433AB85892BACD732B022AA4A1E857_element_40\")>, <selenium.webdriver.remote.webelement.WebElement (session=\"d7b930fcb01a86f53ea2e7ffba193f00\", element=\"4F433AB85892BACD732B022AA4A1E857_element_41\")>, <selenium.webdriver.remote.webelement.WebElement (session=\"d7b930fcb01a86f53ea2e7ffba193f00\", element=\"4F433AB85892BACD732B022AA4A1E857_element_42\")>, <selenium.webdriver.remote.webelement.WebElement (session=\"d7b930fcb01a86f53ea2e7ffba193f00\", element=\"4F433AB85892BACD732B022AA4A1E857_element_43\")>, <selenium.webdriver.remote.webelement.WebElement (session=\"d7b930fcb01a86f53ea2e7ffba193f00\", element=\"4F433AB85892BACD732B022AA4A1E857_element_44\")>, <selenium.webdriver.remote.webelement.WebElement (session=\"d7b930fcb01a86f53ea2e7ffba193f00\", element=\"4F433AB85892BACD732B022AA4A1E857_element_45\")>, <selenium.webdriver.remote.webelement.WebElement (session=\"d7b930fcb01a86f53ea2e7ffba193f00\", element=\"4F433AB85892BACD732B022AA4A1E857_element_46\")>, <selenium.webdriver.remote.webelement.WebElement (session=\"d7b930fcb01a86f53ea2e7ffba193f00\", element=\"4F433AB85892BACD732B022AA4A1E857_element_47\")>, <selenium.webdriver.remote.webelement.WebElement (session=\"d7b930fcb01a86f53ea2e7ffba193f00\", element=\"4F433AB85892BACD732B022AA4A1E857_element_48\")>, <selenium.webdriver.remote.webelement.WebElement (session=\"d7b930fcb01a86f53ea2e7ffba193f00\", element=\"4F433AB85892BACD732B022AA4A1E857_element_49\")>, <selenium.webdriver.remote.webelement.WebElement (session=\"d7b930fcb01a86f53ea2e7ffba193f00\", element=\"4F433AB85892BACD732B022AA4A1E857_element_50\")>, <selenium.webdriver.remote.webelement.WebElement (session=\"d7b930fcb01a86f53ea2e7ffba193f00\", element=\"4F433AB85892BACD732B022AA4A1E857_element_51\")>, <selenium.webdriver.remote.webelement.WebElement (session=\"d7b930fcb01a86f53ea2e7ffba193f00\", element=\"4F433AB85892BACD732B022AA4A1E857_element_52\")>, <selenium.webdriver.remote.webelement.WebElement (session=\"d7b930fcb01a86f53ea2e7ffba193f00\", element=\"4F433AB85892BACD732B022AA4A1E857_element_53\")>, <selenium.webdriver.remote.webelement.WebElement (session=\"d7b930fcb01a86f53ea2e7ffba193f00\", element=\"4F433AB85892BACD732B022AA4A1E857_element_54\")>, <selenium.webdriver.remote.webelement.WebElement (session=\"d7b930fcb01a86f53ea2e7ffba193f00\", element=\"4F433AB85892BACD732B022AA4A1E857_element_55\")>, <selenium.webdriver.remote.webelement.WebElement (session=\"d7b930fcb01a86f53ea2e7ffba193f00\", element=\"4F433AB85892BACD732B022AA4A1E857_element_56\")>, <selenium.webdriver.remote.webelement.WebElement (session=\"d7b930fcb01a86f53ea2e7ffba193f00\", element=\"4F433AB85892BACD732B022AA4A1E857_element_57\")>, <selenium.webdriver.remote.webelement.WebElement (session=\"d7b930fcb01a86f53ea2e7ffba193f00\", element=\"4F433AB85892BACD732B022AA4A1E857_element_58\")>, <selenium.webdriver.remote.webelement.WebElement (session=\"d7b930fcb01a86f53ea2e7ffba193f00\", element=\"4F433AB85892BACD732B022AA4A1E857_element_59\")>, <selenium.webdriver.remote.webelement.WebElement (session=\"d7b930fcb01a86f53ea2e7ffba193f00\", element=\"4F433AB85892BACD732B022AA4A1E857_element_60\")>, <selenium.webdriver.remote.webelement.WebElement (session=\"d7b930fcb01a86f53ea2e7ffba193f00\", element=\"4F433AB85892BACD732B022AA4A1E857_element_61\")>, <selenium.webdriver.remote.webelement.WebElement (session=\"d7b930fcb01a86f53ea2e7ffba193f00\", element=\"4F433AB85892BACD732B022AA4A1E857_element_62\")>, <selenium.webdriver.remote.webelement.WebElement (session=\"d7b930fcb01a86f53ea2e7ffba193f00\", element=\"4F433AB85892BACD732B022AA4A1E857_element_63\")>, <selenium.webdriver.remote.webelement.WebElement (session=\"d7b930fcb01a86f53ea2e7ffba193f00\", element=\"4F433AB85892BACD732B022AA4A1E857_element_64\")>, <selenium.webdriver.remote.webelement.WebElement (session=\"d7b930fcb01a86f53ea2e7ffba193f00\", element=\"4F433AB85892BACD732B022AA4A1E857_element_65\")>, <selenium.webdriver.remote.webelement.WebElement (session=\"d7b930fcb01a86f53ea2e7ffba193f00\", element=\"4F433AB85892BACD732B022AA4A1E857_element_66\")>, <selenium.webdriver.remote.webelement.WebElement (session=\"d7b930fcb01a86f53ea2e7ffba193f00\", element=\"4F433AB85892BACD732B022AA4A1E857_element_67\")>, <selenium.webdriver.remote.webelement.WebElement (session=\"d7b930fcb01a86f53ea2e7ffba193f00\", element=\"4F433AB85892BACD732B022AA4A1E857_element_68\")>, <selenium.webdriver.remote.webelement.WebElement (session=\"d7b930fcb01a86f53ea2e7ffba193f00\", element=\"4F433AB85892BACD732B022AA4A1E857_element_69\")>, <selenium.webdriver.remote.webelement.WebElement (session=\"d7b930fcb01a86f53ea2e7ffba193f00\", element=\"4F433AB85892BACD732B022AA4A1E857_element_70\")>, <selenium.webdriver.remote.webelement.WebElement (session=\"d7b930fcb01a86f53ea2e7ffba193f00\", element=\"4F433AB85892BACD732B022AA4A1E857_element_71\")>, <selenium.webdriver.remote.webelement.WebElement (session=\"d7b930fcb01a86f53ea2e7ffba193f00\", element=\"4F433AB85892BACD732B022AA4A1E857_element_72\")>, <selenium.webdriver.remote.webelement.WebElement (session=\"d7b930fcb01a86f53ea2e7ffba193f00\", element=\"4F433AB85892BACD732B022AA4A1E857_element_73\")>, <selenium.webdriver.remote.webelement.WebElement (session=\"d7b930fcb01a86f53ea2e7ffba193f00\", element=\"4F433AB85892BACD732B022AA4A1E857_element_74\")>, <selenium.webdriver.remote.webelement.WebElement (session=\"d7b930fcb01a86f53ea2e7ffba193f00\", element=\"4F433AB85892BACD732B022AA4A1E857_element_75\")>, <selenium.webdriver.remote.webelement.WebElement (session=\"d7b930fcb01a86f53ea2e7ffba193f00\", element=\"4F433AB85892BACD732B022AA4A1E857_element_76\")>, <selenium.webdriver.remote.webelement.WebElement (session=\"d7b930fcb01a86f53ea2e7ffba193f00\", element=\"4F433AB85892BACD732B022AA4A1E857_element_77\")>, <selenium.webdriver.remote.webelement.WebElement (session=\"d7b930fcb01a86f53ea2e7ffba193f00\", element=\"4F433AB85892BACD732B022AA4A1E857_element_78\")>, <selenium.webdriver.remote.webelement.WebElement (session=\"d7b930fcb01a86f53ea2e7ffba193f00\", element=\"4F433AB85892BACD732B022AA4A1E857_element_79\")>, <selenium.webdriver.remote.webelement.WebElement (session=\"d7b930fcb01a86f53ea2e7ffba193f00\", element=\"4F433AB85892BACD732B022AA4A1E857_element_80\")>, <selenium.webdriver.remote.webelement.WebElement (session=\"d7b930fcb01a86f53ea2e7ffba193f00\", element=\"4F433AB85892BACD732B022AA4A1E857_element_81\")>, <selenium.webdriver.remote.webelement.WebElement (session=\"d7b930fcb01a86f53ea2e7ffba193f00\", element=\"4F433AB85892BACD732B022AA4A1E857_element_82\")>, <selenium.webdriver.remote.webelement.WebElement (session=\"d7b930fcb01a86f53ea2e7ffba193f00\", element=\"4F433AB85892BACD732B022AA4A1E857_element_83\")>, <selenium.webdriver.remote.webelement.WebElement (session=\"d7b930fcb01a86f53ea2e7ffba193f00\", element=\"4F433AB85892BACD732B022AA4A1E857_element_84\")>, <selenium.webdriver.remote.webelement.WebElement (session=\"d7b930fcb01a86f53ea2e7ffba193f00\", element=\"4F433AB85892BACD732B022AA4A1E857_element_85\")>, <selenium.webdriver.remote.webelement.WebElement (session=\"d7b930fcb01a86f53ea2e7ffba193f00\", element=\"4F433AB85892BACD732B022AA4A1E857_element_86\")>, <selenium.webdriver.remote.webelement.WebElement (session=\"d7b930fcb01a86f53ea2e7ffba193f00\", element=\"4F433AB85892BACD732B022AA4A1E857_element_87\")>, <selenium.webdriver.remote.webelement.WebElement (session=\"d7b930fcb01a86f53ea2e7ffba193f00\", element=\"4F433AB85892BACD732B022AA4A1E857_element_88\")>, <selenium.webdriver.remote.webelement.WebElement (session=\"d7b930fcb01a86f53ea2e7ffba193f00\", element=\"4F433AB85892BACD732B022AA4A1E857_element_89\")>, <selenium.webdriver.remote.webelement.WebElement (session=\"d7b930fcb01a86f53ea2e7ffba193f00\", element=\"4F433AB85892BACD732B022AA4A1E857_element_90\")>, <selenium.webdriver.remote.webelement.WebElement (session=\"d7b930fcb01a86f53ea2e7ffba193f00\", element=\"4F433AB85892BACD732B022AA4A1E857_element_91\")>, <selenium.webdriver.remote.webelement.WebElement (session=\"d7b930fcb01a86f53ea2e7ffba193f00\", element=\"4F433AB85892BACD732B022AA4A1E857_element_92\")>, <selenium.webdriver.remote.webelement.WebElement (session=\"d7b930fcb01a86f53ea2e7ffba193f00\", element=\"4F433AB85892BACD732B022AA4A1E857_element_93\")>, <selenium.webdriver.remote.webelement.WebElement (session=\"d7b930fcb01a86f53ea2e7ffba193f00\", element=\"4F433AB85892BACD732B022AA4A1E857_element_94\")>, <selenium.webdriver.remote.webelement.WebElement (session=\"d7b930fcb01a86f53ea2e7ffba193f00\", element=\"4F433AB85892BACD732B022AA4A1E857_element_95\")>, <selenium.webdriver.remote.webelement.WebElement (session=\"d7b930fcb01a86f53ea2e7ffba193f00\", element=\"4F433AB85892BACD732B022AA4A1E857_element_96\")>, <selenium.webdriver.remote.webelement.WebElement (session=\"d7b930fcb01a86f53ea2e7ffba193f00\", element=\"4F433AB85892BACD732B022AA4A1E857_element_97\")>, <selenium.webdriver.remote.webelement.WebElement (session=\"d7b930fcb01a86f53ea2e7ffba193f00\", element=\"4F433AB85892BACD732B022AA4A1E857_element_98\")>, <selenium.webdriver.remote.webelement.WebElement (session=\"d7b930fcb01a86f53ea2e7ffba193f00\", element=\"4F433AB85892BACD732B022AA4A1E857_element_99\")>, <selenium.webdriver.remote.webelement.WebElement (session=\"d7b930fcb01a86f53ea2e7ffba193f00\", element=\"4F433AB85892BACD732B022AA4A1E857_element_100\")>, <selenium.webdriver.remote.webelement.WebElement (session=\"d7b930fcb01a86f53ea2e7ffba193f00\", element=\"4F433AB85892BACD732B022AA4A1E857_element_101\")>, <selenium.webdriver.remote.webelement.WebElement (session=\"d7b930fcb01a86f53ea2e7ffba193f00\", element=\"4F433AB85892BACD732B022AA4A1E857_element_102\")>, <selenium.webdriver.remote.webelement.WebElement (session=\"d7b930fcb01a86f53ea2e7ffba193f00\", element=\"4F433AB85892BACD732B022AA4A1E857_element_103\")>, <selenium.webdriver.remote.webelement.WebElement (session=\"d7b930fcb01a86f53ea2e7ffba193f00\", element=\"4F433AB85892BACD732B022AA4A1E857_element_104\")>, <selenium.webdriver.remote.webelement.WebElement (session=\"d7b930fcb01a86f53ea2e7ffba193f00\", element=\"4F433AB85892BACD732B022AA4A1E857_element_105\")>, <selenium.webdriver.remote.webelement.WebElement (session=\"d7b930fcb01a86f53ea2e7ffba193f00\", element=\"4F433AB85892BACD732B022AA4A1E857_element_106\")>, <selenium.webdriver.remote.webelement.WebElement (session=\"d7b930fcb01a86f53ea2e7ffba193f00\", element=\"4F433AB85892BACD732B022AA4A1E857_element_107\")>, <selenium.webdriver.remote.webelement.WebElement (session=\"d7b930fcb01a86f53ea2e7ffba193f00\", element=\"4F433AB85892BACD732B022AA4A1E857_element_108\")>, <selenium.webdriver.remote.webelement.WebElement (session=\"d7b930fcb01a86f53ea2e7ffba193f00\", element=\"4F433AB85892BACD732B022AA4A1E857_element_109\")>, <selenium.webdriver.remote.webelement.WebElement (session=\"d7b930fcb01a86f53ea2e7ffba193f00\", element=\"4F433AB85892BACD732B022AA4A1E857_element_110\")>, <selenium.webdriver.remote.webelement.WebElement (session=\"d7b930fcb01a86f53ea2e7ffba193f00\", element=\"4F433AB85892BACD732B022AA4A1E857_element_111\")>, <selenium.webdriver.remote.webelement.WebElement (session=\"d7b930fcb01a86f53ea2e7ffba193f00\", element=\"4F433AB85892BACD732B022AA4A1E857_element_112\")>, <selenium.webdriver.remote.webelement.WebElement (session=\"d7b930fcb01a86f53ea2e7ffba193f00\", element=\"4F433AB85892BACD732B022AA4A1E857_element_113\")>, <selenium.webdriver.remote.webelement.WebElement (session=\"d7b930fcb01a86f53ea2e7ffba193f00\", element=\"4F433AB85892BACD732B022AA4A1E857_element_114\")>, <selenium.webdriver.remote.webelement.WebElement (session=\"d7b930fcb01a86f53ea2e7ffba193f00\", element=\"4F433AB85892BACD732B022AA4A1E857_element_115\")>, <selenium.webdriver.remote.webelement.WebElement (session=\"d7b930fcb01a86f53ea2e7ffba193f00\", element=\"4F433AB85892BACD732B022AA4A1E857_element_116\")>, <selenium.webdriver.remote.webelement.WebElement (session=\"d7b930fcb01a86f53ea2e7ffba193f00\", element=\"4F433AB85892BACD732B022AA4A1E857_element_117\")>, <selenium.webdriver.remote.webelement.WebElement (session=\"d7b930fcb01a86f53ea2e7ffba193f00\", element=\"4F433AB85892BACD732B022AA4A1E857_element_118\")>, <selenium.webdriver.remote.webelement.WebElement (session=\"d7b930fcb01a86f53ea2e7ffba193f00\", element=\"4F433AB85892BACD732B022AA4A1E857_element_119\")>, <selenium.webdriver.remote.webelement.WebElement (session=\"d7b930fcb01a86f53ea2e7ffba193f00\", element=\"4F433AB85892BACD732B022AA4A1E857_element_120\")>, <selenium.webdriver.remote.webelement.WebElement (session=\"d7b930fcb01a86f53ea2e7ffba193f00\", element=\"4F433AB85892BACD732B022AA4A1E857_element_121\")>, <selenium.webdriver.remote.webelement.WebElement (session=\"d7b930fcb01a86f53ea2e7ffba193f00\", element=\"4F433AB85892BACD732B022AA4A1E857_element_122\")>, <selenium.webdriver.remote.webelement.WebElement (session=\"d7b930fcb01a86f53ea2e7ffba193f00\", element=\"4F433AB85892BACD732B022AA4A1E857_element_123\")>, <selenium.webdriver.remote.webelement.WebElement (session=\"d7b930fcb01a86f53ea2e7ffba193f00\", element=\"4F433AB85892BACD732B022AA4A1E857_element_124\")>, <selenium.webdriver.remote.webelement.WebElement (session=\"d7b930fcb01a86f53ea2e7ffba193f00\", element=\"4F433AB85892BACD732B022AA4A1E857_element_125\")>, <selenium.webdriver.remote.webelement.WebElement (session=\"d7b930fcb01a86f53ea2e7ffba193f00\", element=\"4F433AB85892BACD732B022AA4A1E857_element_126\")>, <selenium.webdriver.remote.webelement.WebElement (session=\"d7b930fcb01a86f53ea2e7ffba193f00\", element=\"4F433AB85892BACD732B022AA4A1E857_element_127\")>, <selenium.webdriver.remote.webelement.WebElement (session=\"d7b930fcb01a86f53ea2e7ffba193f00\", element=\"4F433AB85892BACD732B022AA4A1E857_element_128\")>] search results. Extracting links from 0:100\n",
      "found: 0 image links, looking for more...\n",
      "found: 0 image links, looking for more...\n",
      "found: 0 image links, looking for more...\n",
      "found: 1 image links, looking for more...\n",
      "found: 1 image links, looking for more...\n",
      "found: 2 image links, looking for more...\n",
      "found: 3 image links, looking for more...\n",
      "found: 4 image links, looking for more...\n",
      "found: 5 image links, looking for more...\n",
      "found: 5 image links, looking for more...\n",
      "found: 5 image links, looking for more...\n",
      "found: 6 image links, looking for more...\n",
      "found: 7 image links, looking for more...\n",
      "found: 8 image links, looking for more...\n",
      "found: 9 image links, looking for more...\n",
      "found: 9 image links, looking for more...\n",
      "found 10 image links, done!\n",
      "success - saved https://www.hindustantimes.com/static-content/1y/cricket-logos/players/ms-dhoni.png - as images/m_s_dhoni\n",
      "success - saved https://img1.hscicdn.com/image/upload/f_auto,t_ds_square_w_320,q_50/lsci/db/PICTURES/CMS/319900/319946.png - as images/m_s_dhoni\n",
      "success - saved https://crickettimes.com/wp-content/uploads/2023/08/Shivam-Dube-names-his-all-time-CSK-XI.webp - as images/m_s_dhoni\n",
      "success - saved https://gumlet.assettype.com/Prabhatkhabar%2F2023-07%2F360ac316-7a6f-463e-8b57-dc6497686b15%2Fms_dhoni__58_.jpg?auto=format%2Ccompress&w=400&dpr=2.6 - as images/m_s_dhoni\n",
      "success - saved https://images1.wionews.com/images/wion/900x1600/2023/7/6/1688647547758_msdhoniedited070722013442.jpeg - as images/m_s_dhoni\n",
      "success - saved https://bcciplayerimages.s3.ap-south-1.amazonaws.com/ipl/IPLHeadshot2023/57.png - as images/m_s_dhoni\n",
      "success - saved https://www.hindustantimes.com/ht-img/img/2023/04/10/1600x900/ANI-20230408340-0_1681122393911_1681122393911_1681122413210_1681122413210.jpg - as images/m_s_dhoni\n",
      "success - saved https://www.livemint.com/lm-img/img/2023/04/23/1600x900/MS_Dhoni_1682266132445_1682266132661.jpg - as images/m_s_dhoni\n",
      "success - saved https://assets.gqindia.com/photos/642691cf326f7c32f4579178/4:3/w_1440,h_1080,c_limit/MS-Dhoni.jpg - as images/m_s_dhoni\n",
      "success - saved https://static.india.com/wp-content/uploads/2023/08/Collage-Maker-04-Aug-2023-03-25-PM-1312.jpg - as images/m_s_dhoni\n"
     ]
    }
   ],
   "source": [
    "search_and_download(search_term=\"M S Dhoni\")"
   ]
  },
  {
   "cell_type": "code",
   "execution_count": null,
   "metadata": {},
   "outputs": [],
   "source": []
  }
 ],
 "metadata": {
  "kernelspec": {
   "display_name": "practise",
   "language": "python",
   "name": "python3"
  },
  "language_info": {
   "codemirror_mode": {
    "name": "ipython",
    "version": 3
   },
   "file_extension": ".py",
   "mimetype": "text/x-python",
   "name": "python",
   "nbconvert_exporter": "python",
   "pygments_lexer": "ipython3",
   "version": "3.9.0"
  },
  "orig_nbformat": 4
 },
 "nbformat": 4,
 "nbformat_minor": 2
}
